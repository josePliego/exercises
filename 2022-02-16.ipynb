{
 "cells": [
  {
   "cell_type": "code",
   "execution_count": 1,
   "id": "231b55be-2d35-4e35-b6f7-f765ab3685cc",
   "metadata": {},
   "outputs": [],
   "source": [
    "# Numerical Optimization"
   ]
  },
  {
   "cell_type": "markdown",
   "id": "e55645cc-86aa-430a-a2eb-536796290a8c",
   "metadata": {},
   "source": [
    "$\\min_{x\\in \\mathbb{R}} f(x)$"
   ]
  },
  {
   "cell_type": "code",
   "execution_count": null,
   "id": "77aa6403-c9c0-4005-95b4-b6c3aa18e172",
   "metadata": {},
   "outputs": [],
   "source": []
  }
 ],
 "metadata": {
  "kernelspec": {
   "display_name": "Python 3 (ipykernel)",
   "language": "python",
   "name": "python3"
  },
  "language_info": {
   "codemirror_mode": {
    "name": "ipython",
    "version": 3
   },
   "file_extension": ".py",
   "mimetype": "text/x-python",
   "name": "python",
   "nbconvert_exporter": "python",
   "pygments_lexer": "ipython3",
   "version": "3.10.2"
  }
 },
 "nbformat": 4,
 "nbformat_minor": 5
}
