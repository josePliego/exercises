{
 "cells": [
  {
   "cell_type": "code",
   "execution_count": 1,
   "id": "c629b7c8-065d-4931-8515-dcdf3f95fdbb",
   "metadata": {},
   "outputs": [],
   "source": [
    "import pandas as pd\n",
    "import numpy as np\n",
    "import seaborn as sns\n",
    "import matplotlib.pyplot as plt"
   ]
  },
  {
   "cell_type": "code",
   "execution_count": 3,
   "id": "64b18c3d-b29b-4ae2-ac82-e29f8a9af287",
   "metadata": {},
   "outputs": [],
   "source": [
    "from sklearn.linear_model import LinearRegression\n",
    "from sklearn.preprocessing import OneHotEncoder, PolynomialFeatures\n",
    "from sklearn.pipeline import make_pipeline\n",
    "from sklearn.compose import make_column_transformer, make_column_selector"
   ]
  },
  {
   "cell_type": "markdown",
   "id": "01f3a3c9-9613-4261-9406-6b270979fbad",
   "metadata": {},
   "source": [
    "# Example 1"
   ]
  },
  {
   "cell_type": "code",
   "execution_count": 4,
   "id": "0b01f5cb-12a8-4d36-8302-09e7d3a80d7a",
   "metadata": {},
   "outputs": [],
   "source": [
    "books = pd.read_csv(\"https://sta663-sp22.github.io/slides/data/daag_books.csv\")"
   ]
  },
  {
   "cell_type": "code",
   "execution_count": 22,
   "id": "9d36172a-faf9-4e35-883c-33274d3bf484",
   "metadata": {},
   "outputs": [
    {
     "name": "stdout",
     "output_type": "stream",
     "text": [
      "Pipeline(steps=[('columntransformer',\n",
      "                 ColumnTransformer(remainder='passthrough',\n",
      "                                   transformers=[('onehotencoder',\n",
      "                                                  OneHotEncoder(drop='first'),\n",
      "                                                  <sklearn.compose._column_transformer.make_column_selector object at 0x7f6049923bb0>)])),\n",
      "                ('polynomialfeatures',\n",
      "                 PolynomialFeatures(include_bias=False, interaction_only=True)),\n",
      "                ('linearregression', LinearRegression())])\n",
      "['onehotencoder__cover_pb' 'remainder__volume'\n",
      " 'onehotencoder__cover_pb remainder__volume']\n"
     ]
    }
   ],
   "source": [
    "p = make_pipeline(\n",
    "    make_column_transformer(\n",
    "        (OneHotEncoder(drop='first'), make_column_selector(dtype_include=object)),\n",
    "         remainder = 'passthrough'\n",
    "    ),\n",
    "    PolynomialFeatures(degree=2, interaction_only=True, include_bias=False),\n",
    "    LinearRegression()\n",
    ")\n",
    "\n",
    "print(p.fit(books.drop(['weight'], axis=1), books.weight))\n",
    "print(p[:-1].get_feature_names_out())"
   ]
  },
  {
   "cell_type": "code",
   "execution_count": 24,
   "id": "4bacfbc5-9231-428c-9e1a-943d74759c91",
   "metadata": {},
   "outputs": [
    {
     "name": "stdout",
     "output_type": "stream",
     "text": [
      "161.58654141102681\n",
      "[-1.20214066e+02  7.61592838e-01 -7.57336630e-02]\n"
     ]
    }
   ],
   "source": [
    "print(p.named_steps['linearregression'].intercept_)\n",
    "print(p.named_steps['linearregression'].coef_)"
   ]
  }
 ],
 "metadata": {
  "kernelspec": {
   "display_name": "Python 3 (ipykernel)",
   "language": "python",
   "name": "python3"
  },
  "language_info": {
   "codemirror_mode": {
    "name": "ipython",
    "version": 3
   },
   "file_extension": ".py",
   "mimetype": "text/x-python",
   "name": "python",
   "nbconvert_exporter": "python",
   "pygments_lexer": "ipython3",
   "version": "3.10.2"
  }
 },
 "nbformat": 4,
 "nbformat_minor": 5
}
