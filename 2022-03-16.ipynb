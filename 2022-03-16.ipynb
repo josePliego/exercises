{
 "cells": [
  {
   "cell_type": "code",
   "execution_count": 2,
   "id": "db8626ce-1175-4b58-ac4b-45cc7b3ee657",
   "metadata": {},
   "outputs": [],
   "source": [
    "import pandas as pd\n",
    "import numpy as np\n",
    "from sklearn.pipeline import make_pipeline\n",
    "from sklearn.linear_model import LinearRegression\n",
    "from sklego.preprocessing import PatsyTransformer"
   ]
  },
  {
   "cell_type": "code",
   "execution_count": 3,
   "id": "b9bf56c5-727b-4447-8c65-7e97982c95ae",
   "metadata": {},
   "outputs": [],
   "source": [
    "books = pd.read_csv('https://sta663-sp22.github.io/slides/data/daag_books.csv')"
   ]
  },
  {
   "cell_type": "code",
   "execution_count": 4,
   "id": "278a6a9c-cfb3-4c12-9b40-c7f3ffb0ccfb",
   "metadata": {},
   "outputs": [
    {
     "data": {
      "text/html": [
       "<div>\n",
       "<style scoped>\n",
       "    .dataframe tbody tr th:only-of-type {\n",
       "        vertical-align: middle;\n",
       "    }\n",
       "\n",
       "    .dataframe tbody tr th {\n",
       "        vertical-align: top;\n",
       "    }\n",
       "\n",
       "    .dataframe thead th {\n",
       "        text-align: right;\n",
       "    }\n",
       "</style>\n",
       "<table border=\"1\" class=\"dataframe\">\n",
       "  <thead>\n",
       "    <tr style=\"text-align: right;\">\n",
       "      <th></th>\n",
       "      <th>volume</th>\n",
       "      <th>weight</th>\n",
       "      <th>cover</th>\n",
       "    </tr>\n",
       "  </thead>\n",
       "  <tbody>\n",
       "    <tr>\n",
       "      <th>0</th>\n",
       "      <td>885</td>\n",
       "      <td>800</td>\n",
       "      <td>hb</td>\n",
       "    </tr>\n",
       "    <tr>\n",
       "      <th>1</th>\n",
       "      <td>1016</td>\n",
       "      <td>950</td>\n",
       "      <td>hb</td>\n",
       "    </tr>\n",
       "    <tr>\n",
       "      <th>2</th>\n",
       "      <td>1125</td>\n",
       "      <td>1050</td>\n",
       "      <td>hb</td>\n",
       "    </tr>\n",
       "    <tr>\n",
       "      <th>3</th>\n",
       "      <td>239</td>\n",
       "      <td>350</td>\n",
       "      <td>hb</td>\n",
       "    </tr>\n",
       "    <tr>\n",
       "      <th>4</th>\n",
       "      <td>701</td>\n",
       "      <td>750</td>\n",
       "      <td>hb</td>\n",
       "    </tr>\n",
       "    <tr>\n",
       "      <th>5</th>\n",
       "      <td>641</td>\n",
       "      <td>600</td>\n",
       "      <td>hb</td>\n",
       "    </tr>\n",
       "    <tr>\n",
       "      <th>6</th>\n",
       "      <td>1228</td>\n",
       "      <td>1075</td>\n",
       "      <td>hb</td>\n",
       "    </tr>\n",
       "    <tr>\n",
       "      <th>7</th>\n",
       "      <td>412</td>\n",
       "      <td>250</td>\n",
       "      <td>pb</td>\n",
       "    </tr>\n",
       "    <tr>\n",
       "      <th>8</th>\n",
       "      <td>953</td>\n",
       "      <td>700</td>\n",
       "      <td>pb</td>\n",
       "    </tr>\n",
       "    <tr>\n",
       "      <th>9</th>\n",
       "      <td>929</td>\n",
       "      <td>650</td>\n",
       "      <td>pb</td>\n",
       "    </tr>\n",
       "    <tr>\n",
       "      <th>10</th>\n",
       "      <td>1492</td>\n",
       "      <td>975</td>\n",
       "      <td>pb</td>\n",
       "    </tr>\n",
       "    <tr>\n",
       "      <th>11</th>\n",
       "      <td>419</td>\n",
       "      <td>350</td>\n",
       "      <td>pb</td>\n",
       "    </tr>\n",
       "    <tr>\n",
       "      <th>12</th>\n",
       "      <td>1010</td>\n",
       "      <td>950</td>\n",
       "      <td>pb</td>\n",
       "    </tr>\n",
       "    <tr>\n",
       "      <th>13</th>\n",
       "      <td>595</td>\n",
       "      <td>425</td>\n",
       "      <td>pb</td>\n",
       "    </tr>\n",
       "    <tr>\n",
       "      <th>14</th>\n",
       "      <td>1034</td>\n",
       "      <td>725</td>\n",
       "      <td>pb</td>\n",
       "    </tr>\n",
       "  </tbody>\n",
       "</table>\n",
       "</div>"
      ],
      "text/plain": [
       "    volume  weight cover\n",
       "0      885     800    hb\n",
       "1     1016     950    hb\n",
       "2     1125    1050    hb\n",
       "3      239     350    hb\n",
       "4      701     750    hb\n",
       "5      641     600    hb\n",
       "6     1228    1075    hb\n",
       "7      412     250    pb\n",
       "8      953     700    pb\n",
       "9      929     650    pb\n",
       "10    1492     975    pb\n",
       "11     419     350    pb\n",
       "12    1010     950    pb\n",
       "13     595     425    pb\n",
       "14    1034     725    pb"
      ]
     },
     "execution_count": 4,
     "metadata": {},
     "output_type": "execute_result"
    }
   ],
   "source": [
    "books"
   ]
  },
  {
   "cell_type": "code",
   "execution_count": 5,
   "id": "4efa9a8a-cc5a-4167-a105-261a58db8fab",
   "metadata": {},
   "outputs": [
    {
     "data": {
      "text/plain": [
       "Pipeline(steps=[('patsytransformer', PatsyTransformer(formula='volume*cover')),\n",
       "                ('linearregression', LinearRegression(fit_intercept=False))])"
      ]
     },
     "execution_count": 5,
     "metadata": {},
     "output_type": "execute_result"
    }
   ],
   "source": [
    "X, y = books[['volume', 'cover']], books['weight']\n",
    "p = make_pipeline(\n",
    "    PatsyTransformer('volume*cover'),\n",
    "    LinearRegression(fit_intercept=False)\n",
    ")\n",
    "p.fit(X, y)"
   ]
  },
  {
   "cell_type": "code",
   "execution_count": 6,
   "id": "a41e0483-546b-4ead-9921-421c8d4d36d2",
   "metadata": {},
   "outputs": [
    {
     "data": {
      "text/plain": [
       "array([ 1.61586541e+02, -1.20214066e+02,  7.61592838e-01, -7.57336630e-02])"
      ]
     },
     "execution_count": 6,
     "metadata": {},
     "output_type": "execute_result"
    }
   ],
   "source": [
    "p.steps[1][1].coef_"
   ]
  },
  {
   "cell_type": "code",
   "execution_count": null,
   "id": "79649e38-d0b4-4c28-8e4e-bbaf4d8ac0ef",
   "metadata": {},
   "outputs": [],
   "source": []
  }
 ],
 "metadata": {
  "kernelspec": {
   "display_name": "Python 3 (ipykernel)",
   "language": "python",
   "name": "python3"
  },
  "language_info": {
   "codemirror_mode": {
    "name": "ipython",
    "version": 3
   },
   "file_extension": ".py",
   "mimetype": "text/x-python",
   "name": "python",
   "nbconvert_exporter": "python",
   "pygments_lexer": "ipython3",
   "version": "3.10.2"
  }
 },
 "nbformat": 4,
 "nbformat_minor": 5
}
